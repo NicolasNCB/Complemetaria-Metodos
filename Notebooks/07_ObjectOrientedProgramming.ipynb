{
  "cells": [
    {
      "cell_type": "markdown",
      "metadata": {
        "id": "GzkG4LcQt4-1"
      },
      "source": [
        "# Introduction to Python\n",
        "\n",
        "## Object Oriented Programming\n",
        "\n",
        "## Complementaria Metodos Computacionales 1\n",
        "## Uniandes\n",
        "\n",
        "Based on [SoloLearn Python](https://www.sololearn.com/Play/Python)"
      ]
    },
    {
      "cell_type": "markdown",
      "metadata": {
        "id": "DIWNOCWsuHEo"
      },
      "source": [
        "## Class Constructor \\__init__\n",
        "\n",
        "The constructor runs automatically when an instance of the object is created"
      ]
    },
    {
      "cell_type": "code",
      "execution_count": 1,
      "metadata": {
        "id": "nekteyH-t-Wz"
      },
      "outputs": [],
      "source": [
        "class Cat:\n",
        "    def __init__(self, color, legs):\n",
        "        self.color = color\n",
        "        self.legs = legs\n",
        "        print(\"a\")\n",
        "    def get_color(self):\n",
        "        return self.color"
      ]
    },
    {
      "cell_type": "code",
      "execution_count": 2,
      "metadata": {
        "id": "ou-hiM2ruRIA",
        "colab": {
          "base_uri": "https://localhost:8080/"
        },
        "outputId": "616da44a-a3ef-4955-a15d-0e35546418f3"
      },
      "outputs": [
        {
          "output_type": "stream",
          "name": "stdout",
          "text": [
            "a\n",
            "a\n",
            "a\n"
          ]
        }
      ],
      "source": [
        "# Class Instances\n",
        "felix = Cat(\"ginger\", 4)\n",
        "rover = Cat(\"dog-colored\", 4)\n",
        "stumpy = Cat(\"brown\", 3)"
      ]
    },
    {
      "cell_type": "code",
      "execution_count": 3,
      "metadata": {
        "colab": {
          "base_uri": "https://localhost:8080/",
          "height": 35
        },
        "id": "mqBJ_yz-mF6s",
        "outputId": "2b56eaf2-876d-4b25-ea08-391ffcc55652"
      },
      "outputs": [
        {
          "output_type": "execute_result",
          "data": {
            "text/plain": [
              "'ginger'"
            ],
            "application/vnd.google.colaboratory.intrinsic+json": {
              "type": "string"
            }
          },
          "metadata": {},
          "execution_count": 3
        }
      ],
      "source": [
        "felix.get_color()"
      ]
    },
    {
      "cell_type": "markdown",
      "metadata": {
        "id": "483VbCVCvKuV"
      },
      "source": [
        "## Methods"
      ]
    },
    {
      "cell_type": "code",
      "execution_count": 4,
      "metadata": {
        "id": "NA7ZfNpfuX_Z"
      },
      "outputs": [],
      "source": [
        "class Cat:\n",
        "    def __init__(self, color, legs):\n",
        "        self.color = color\n",
        "        self.legs = legs\n",
        "        print(\"a\")\n",
        "    def meow(self):\n",
        "        print(\"miau\")"
      ]
    },
    {
      "cell_type": "code",
      "execution_count": 6,
      "metadata": {
        "colab": {
          "base_uri": "https://localhost:8080/"
        },
        "id": "DDkT2sylvrYD",
        "outputId": "d065745a-c285-4f4f-f9fa-b2932d573230"
      },
      "outputs": [
        {
          "output_type": "stream",
          "name": "stdout",
          "text": [
            "a\n",
            "miau\n"
          ]
        }
      ],
      "source": [
        "rover = Cat(\"dog-colored\", 4)\n",
        "rover.meow()"
      ]
    },
    {
      "cell_type": "markdown",
      "metadata": {
        "id": "EjZeyD9kwkQ5"
      },
      "source": [
        "## Inheritance\n",
        "\n",
        "It is possible to inherit the methods from one class to another. In this case Dog inherits the constructor of class Wolf."
      ]
    },
    {
      "cell_type": "code",
      "execution_count": 7,
      "metadata": {
        "id": "BE2AgeyAvwI9"
      },
      "outputs": [],
      "source": [
        "class Wolf:\n",
        "    def __init__(self, name, color):\n",
        "        self.name = name\n",
        "        self.color = color\n",
        "    \n",
        "    def bark(self):\n",
        "        print(\"Woof\")\n",
        "        "
      ]
    },
    {
      "cell_type": "code",
      "execution_count": 8,
      "metadata": {
        "id": "YJkFkoY4mF62"
      },
      "outputs": [],
      "source": [
        "class Dog(Wolf):\n",
        "    #pass\n",
        "    def saludar(self): ## Sobreescribir el metodo\n",
        "        print(\"Guau gua\")"
      ]
    },
    {
      "cell_type": "code",
      "execution_count": 9,
      "metadata": {
        "colab": {
          "base_uri": "https://localhost:8080/"
        },
        "id": "XqV2NXOjwo2o",
        "outputId": "c631ac74-f38e-4a3e-d833-30ae3c2e994f"
      },
      "outputs": [
        {
          "output_type": "stream",
          "name": "stdout",
          "text": [
            "Woof\n",
            "Woof\n"
          ]
        },
        {
          "output_type": "execute_result",
          "data": {
            "text/plain": [
              "(None, None)"
            ]
          },
          "metadata": {},
          "execution_count": 9
        }
      ],
      "source": [
        "husky = Dog(\"Max\", \"grey\")\n",
        "siberiano = Wolf(\"Andrez\", \"Red\")\n",
        "husky.bark(), siberiano.bark()"
      ]
    },
    {
      "cell_type": "code",
      "execution_count": 10,
      "metadata": {
        "colab": {
          "base_uri": "https://localhost:8080/"
        },
        "id": "OsJcXBSpmF7F",
        "outputId": "a56658af-0261-4474-ca7a-9028eab5e2b4"
      },
      "outputs": [
        {
          "output_type": "stream",
          "name": "stdout",
          "text": [
            "Guau gua\n"
          ]
        }
      ],
      "source": [
        "husky.saludar()"
      ]
    },
    {
      "cell_type": "markdown",
      "metadata": {
        "id": "tFVPTDfXxQtS"
      },
      "source": [
        "## Super\n",
        "\n"
      ]
    },
    {
      "cell_type": "code",
      "source": [],
      "metadata": {
        "id": "Bjq_Ynpam7mZ"
      },
      "execution_count": null,
      "outputs": []
    },
    {
      "cell_type": "markdown",
      "metadata": {
        "id": "4BsreufK1WUr"
      },
      "source": [
        "## Example\n",
        "\n",
        "One warrior and one knight with health = 50, the warrior has variable attack, the knight has an attack of 55.\n",
        "The warrior attacks first, check who dies first."
      ]
    },
    {
      "cell_type": "code",
      "execution_count": null,
      "metadata": {
        "id": "PLETgwyIx1Rn"
      },
      "outputs": [],
      "source": [
        "class Warrior:\n",
        "    def __init__(self, attack):\n",
        "        self.health = 50\n",
        "        self.attack = attack\n",
        "    def is_alive(self):\n",
        "        if self.health <= 0:\n",
        "            print(\"is dead\")\n",
        "        else:\n",
        "            print(\"is alive\")"
      ]
    },
    {
      "cell_type": "code",
      "execution_count": null,
      "metadata": {
        "id": "jkSjyjcO3dki"
      },
      "outputs": [],
      "source": [
        "class Knight(Warrior):\n",
        "    def __init__(self):\n",
        "        self.health = 50\n",
        "        self.attack = 55"
      ]
    },
    {
      "cell_type": "code",
      "execution_count": null,
      "metadata": {
        "id": "3nbnq2F64KHs"
      },
      "outputs": [],
      "source": [
        "def fight(knight, warrior):\n",
        "    knight.health = knight.health - warrior.attack\n",
        "    print(\"Knight\")\n",
        "    knight.is_alive()\n",
        "    print(\"Warrior\")\n",
        "    warrior.is_alive()\n",
        "    if knight.health > 0:\n",
        "        warrior.health = warrior.health - knight.attack\n",
        "        print(\"Knight\") \n",
        "        knight.is_alive()\n",
        "        print(\"Warrior\")\n",
        "        warrior.is_alive()"
      ]
    },
    {
      "cell_type": "code",
      "execution_count": null,
      "metadata": {
        "id": "t3JrMH_h5Zdf"
      },
      "outputs": [],
      "source": [
        "santiago = Warrior(75)\n",
        "Arthur = Knight()\n",
        "\n",
        "#fight(santiago, Arthur)"
      ]
    },
    {
      "cell_type": "code",
      "execution_count": null,
      "metadata": {
        "colab": {
          "base_uri": "https://localhost:8080/",
          "height": 153
        },
        "id": "fyT92W6f5mey",
        "outputId": "50d31247-dc1c-414e-9f85-5ebb25e657eb"
      },
      "outputs": [
        {
          "name": "stdout",
          "output_type": "stream",
          "text": [
            "Knight\n",
            "is dead\n",
            "Warrior\n",
            "is alive\n"
          ]
        }
      ],
      "source": [
        "fight(Arthur, santiago)"
      ]
    },
    {
      "cell_type": "code",
      "execution_count": null,
      "metadata": {
        "id": "Wu3QHFWT5qGy"
      },
      "outputs": [],
      "source": []
    }
  ],
  "metadata": {
    "colab": {
      "provenance": []
    },
    "kernelspec": {
      "display_name": "Python 3",
      "language": "python",
      "name": "python3"
    },
    "language_info": {
      "codemirror_mode": {
        "name": "ipython",
        "version": 3
      },
      "file_extension": ".py",
      "mimetype": "text/x-python",
      "name": "python",
      "nbconvert_exporter": "python",
      "pygments_lexer": "ipython3",
      "version": "3.8.10"
    }
  },
  "nbformat": 4,
  "nbformat_minor": 0
}